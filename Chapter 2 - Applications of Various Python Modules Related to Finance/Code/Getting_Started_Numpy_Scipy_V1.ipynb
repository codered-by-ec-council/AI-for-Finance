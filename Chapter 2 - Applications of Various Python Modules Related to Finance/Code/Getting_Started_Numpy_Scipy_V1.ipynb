{
 "cells": [
  {
   "cell_type": "markdown",
   "metadata": {},
   "source": [
    "<img src=\"img/NUMPY_V1.png\"/>"
   ]
  },
  {
   "cell_type": "markdown",
   "metadata": {},
   "source": [
    "<div class=\"alert alert-block alert-info\">\n",
    "<b><span style=\"font-family:Comic Sans MS\">Getting Started with Numpy</span></b>\n",
    "</div>"
   ]
  },
  {
   "cell_type": "markdown",
   "metadata": {},
   "source": [
    "\"NumPy operations perform complex computations on entire arrays without the need for Python for loops.\""
   ]
  },
  {
   "cell_type": "code",
   "execution_count": 5,
   "metadata": {},
   "outputs": [
    {
     "name": "stdout",
     "output_type": "stream",
     "text": [
      "CPU times: user 224 ms, sys: 123 ms, total: 347 ms\n",
      "Wall time: 347 ms\n"
     ]
    }
   ],
   "source": [
    "import numpy as np\n",
    "arr1 = np.arange(10000000)\n",
    "lst1 = list(range(10000000))\n",
    "%time for _ in range(20):arr2 = arr1*2"
   ]
  },
  {
   "cell_type": "code",
   "execution_count": 6,
   "metadata": {},
   "outputs": [
    {
     "name": "stdout",
     "output_type": "stream",
     "text": [
      "CPU times: user 10.6 s, sys: 3.56 s, total: 14.1 s\n",
      "Wall time: 14.3 s\n"
     ]
    }
   ],
   "source": [
    "%time for _ in range(20): lst2 = [x * 2 for x in lst1]"
   ]
  },
  {
   "cell_type": "markdown",
   "metadata": {},
   "source": [
    "__NumPy ndarray__"
   ]
  },
  {
   "cell_type": "code",
   "execution_count": 8,
   "metadata": {},
   "outputs": [
    {
     "name": "stdout",
     "output_type": "stream",
     "text": [
      "[[-0.38855557  1.4697303 ]\n",
      " [ 0.42414426  1.10710879]]\n"
     ]
    }
   ],
   "source": [
    "import numpy as np\n",
    "# Generate some random data\n",
    "data = np.random.randn(2, 2)\n",
    "print(data)"
   ]
  },
  {
   "cell_type": "code",
   "execution_count": 11,
   "metadata": {},
   "outputs": [
    {
     "name": "stdout",
     "output_type": "stream",
     "text": [
      "[[-0.77711113  2.9394606 ]\n",
      " [ 0.84828852  2.21421758]]\n",
      "[[0.15097543 2.16010716]\n",
      " [0.17989835 1.22568987]]\n",
      "[[7.84388717e-05 4.70301625e+01]\n",
      " [1.88423887e-04 2.76632365e+00]]\n"
     ]
    }
   ],
   "source": [
    "# Mathematical operations\n",
    "print(data + data)\n",
    "print(data * data)\n",
    "print(data ** 10)"
   ]
  },
  {
   "cell_type": "code",
   "execution_count": 12,
   "metadata": {},
   "outputs": [
    {
     "name": "stdout",
     "output_type": "stream",
     "text": [
      "(2, 2)\n",
      "float64\n"
     ]
    }
   ],
   "source": [
    "print(data.shape)\n",
    "print(data.dtype)"
   ]
  },
  {
   "cell_type": "markdown",
   "metadata": {},
   "source": [
    "__Creating ndarrays__"
   ]
  },
  {
   "cell_type": "code",
   "execution_count": 13,
   "metadata": {},
   "outputs": [
    {
     "name": "stdout",
     "output_type": "stream",
     "text": [
      "[1, 2.5, 9, 0, 100]\n",
      "[  1.    2.5   9.    0.  100. ]\n"
     ]
    }
   ],
   "source": [
    "data1 = [1, 2.5, 9, 0, 100]\n",
    "arr1 = np.array(data1)\n",
    "print(data1)\n",
    "print(arr1)"
   ]
  },
  {
   "cell_type": "code",
   "execution_count": 14,
   "metadata": {},
   "outputs": [
    {
     "name": "stdout",
     "output_type": "stream",
     "text": [
      "[[1, 2, 3, 4], [5, 6, 7, 8]]\n",
      "[[1 2 3 4]\n",
      " [5 6 7 8]]\n"
     ]
    }
   ],
   "source": [
    "data2 = [[1, 2, 3, 4], [5, 6, 7, 8]]\n",
    "arr2 = np.array(data2)\n",
    "print(data2)\n",
    "print(arr2)"
   ]
  },
  {
   "cell_type": "code",
   "execution_count": 15,
   "metadata": {},
   "outputs": [
    {
     "name": "stdout",
     "output_type": "stream",
     "text": [
      "2\n"
     ]
    }
   ],
   "source": [
    "print(arr2.ndim)"
   ]
  },
  {
   "cell_type": "code",
   "execution_count": 20,
   "metadata": {},
   "outputs": [
    {
     "name": "stdout",
     "output_type": "stream",
     "text": [
      "[0. 0. 0. 0. 0.]\n",
      "[1. 1. 1. 1. 1.]\n",
      "[[[2.31584178e+077 2.31584178e+077]\n",
      "  [2.96439388e-323 0.00000000e+000]\n",
      "  [0.00000000e+000 1.31370903e-076]]\n",
      "\n",
      " [[4.26899300e-090 3.34561257e-061]\n",
      "  [3.61063329e+174 1.33536568e+165]\n",
      "  [3.99910963e+252 8.34402697e-309]]]\n"
     ]
    }
   ],
   "source": [
    "print(np.zeros(5))\n",
    "print(np.ones(5))\n",
    "print(np.empty((2, 3, 2)))"
   ]
  },
  {
   "cell_type": "code",
   "execution_count": 21,
   "metadata": {},
   "outputs": [
    {
     "name": "stdout",
     "output_type": "stream",
     "text": [
      "[0 1 2 3 4]\n"
     ]
    }
   ],
   "source": [
    "print(np.arange(5))"
   ]
  },
  {
   "cell_type": "markdown",
   "metadata": {},
   "source": [
    "<img src=\"img/ARR2_V1.png\"/>"
   ]
  },
  {
   "cell_type": "markdown",
   "metadata": {},
   "source": [
    "__Arithmetic with NumPy Arrays__"
   ]
  },
  {
   "cell_type": "code",
   "execution_count": 23,
   "metadata": {},
   "outputs": [
    {
     "name": "stdout",
     "output_type": "stream",
     "text": [
      "[[100. 400. 900.]\n",
      " [ 16.  25.  36.]]\n",
      "[[0. 0. 0.]\n",
      " [0. 0. 0.]]\n",
      "[[0.1        0.05       0.03333333]\n",
      " [0.25       0.2        0.16666667]]\n",
      "[[1.  2.  3. ]\n",
      " [0.4 0.5 0.6]]\n",
      "[[ True  True  True]\n",
      " [False  True False]]\n"
     ]
    }
   ],
   "source": [
    "arr3 = np.array([[10., 20., 30.], [4., 5., 6.]])\n",
    "print(arr3*arr3)\n",
    "print(arr3 - arr3)\n",
    "print(1/arr3)\n",
    "print(arr3*0.10)\n",
    "arr4 = np.array([[0., 4., 1.], [7., 2., 12.]])\n",
    "print(arr3>arr4)"
   ]
  },
  {
   "cell_type": "markdown",
   "metadata": {},
   "source": [
    "__Basic Indexing and Slicing__"
   ]
  },
  {
   "cell_type": "code",
   "execution_count": 25,
   "metadata": {},
   "outputs": [
    {
     "name": "stdout",
     "output_type": "stream",
     "text": [
      "5\n",
      "[5 6 7]\n",
      "[False False False]\n"
     ]
    }
   ],
   "source": [
    "arr5 = np.arange(10)\n",
    "print(arr5[5])\n",
    "print(arr5[5:8])\n",
    "print(arr5[5:8] == 12)"
   ]
  },
  {
   "cell_type": "code",
   "execution_count": 27,
   "metadata": {},
   "outputs": [
    {
     "data": {
      "text/plain": [
       "array([5, 6, 7])"
      ]
     },
     "execution_count": 27,
     "metadata": {},
     "output_type": "execute_result"
    }
   ],
   "source": [
    "arr_slice = arr5[5:8]\n",
    "arr_slice"
   ]
  },
  {
   "cell_type": "code",
   "execution_count": 28,
   "metadata": {},
   "outputs": [],
   "source": [
    "arr_slice[1] = 12345"
   ]
  },
  {
   "cell_type": "code",
   "execution_count": 29,
   "metadata": {},
   "outputs": [
    {
     "data": {
      "text/plain": [
       "array([    0,     1,     2,     3,     4,     5, 12345,     7,     8,\n",
       "           9])"
      ]
     },
     "execution_count": 29,
     "metadata": {},
     "output_type": "execute_result"
    }
   ],
   "source": [
    "arr5"
   ]
  },
  {
   "cell_type": "code",
   "execution_count": 30,
   "metadata": {},
   "outputs": [
    {
     "data": {
      "text/plain": [
       "array([ 0,  1,  2,  3,  4, 64, 64, 64,  8,  9])"
      ]
     },
     "execution_count": 30,
     "metadata": {},
     "output_type": "execute_result"
    }
   ],
   "source": [
    "arr_slice[:] = 64\n",
    "arr5"
   ]
  },
  {
   "cell_type": "code",
   "execution_count": 31,
   "metadata": {},
   "outputs": [
    {
     "name": "stdout",
     "output_type": "stream",
     "text": [
      "[[1 2 3]\n",
      " [4 5 6]\n",
      " [7 8 9]]\n"
     ]
    }
   ],
   "source": [
    "arr2d1 = np.array([[1, 2, 3], [4, 5, 6], [7, 8, 9]])\n",
    "print(arr2d1)"
   ]
  },
  {
   "cell_type": "code",
   "execution_count": 32,
   "metadata": {},
   "outputs": [
    {
     "name": "stdout",
     "output_type": "stream",
     "text": [
      "3\n"
     ]
    }
   ],
   "source": [
    "print(arr2d1[0][2])"
   ]
  },
  {
   "cell_type": "code",
   "execution_count": 34,
   "metadata": {},
   "outputs": [
    {
     "name": "stdout",
     "output_type": "stream",
     "text": [
      "3\n"
     ]
    }
   ],
   "source": [
    "print(arr2d1[0, 2])"
   ]
  },
  {
   "cell_type": "markdown",
   "metadata": {},
   "source": [
    "__Example of Indexing  elements in NumPy array__"
   ]
  },
  {
   "cell_type": "markdown",
   "metadata": {},
   "source": [
    "<img src=\"img/NUMPY2_V1.png\"/>"
   ]
  },
  {
   "cell_type": "code",
   "execution_count": 35,
   "metadata": {},
   "outputs": [
    {
     "name": "stdout",
     "output_type": "stream",
     "text": [
      "[[2 3]\n",
      " [5 6]]\n"
     ]
    }
   ],
   "source": [
    "# Multiple slices\n",
    "print(arr2d1[:2, 1:])"
   ]
  },
  {
   "cell_type": "markdown",
   "metadata": {},
   "source": [
    "__Boolean Indexing__"
   ]
  },
  {
   "cell_type": "code",
   "execution_count": 37,
   "metadata": {},
   "outputs": [
    {
     "name": "stdout",
     "output_type": "stream",
     "text": [
      "['Bob' 'Joe' 'Tom' 'Harry' 'Will' 'Joe' 'Joe']\n",
      "[[-1.34277118  0.71226694 -0.07665923  0.13775519 -0.08587056]\n",
      " [-0.55199022  1.42888103 -0.46743319  2.5550464  -0.00763004]\n",
      " [ 0.34324168  0.30876256 -1.21054028  0.11526678 -0.36573758]\n",
      " [ 1.55927338  1.09321367  0.37970517  0.39370512 -1.4963454 ]\n",
      " [-0.35274332  0.20317454  0.89377621 -1.28325774 -0.0231772 ]\n",
      " [-0.53795685  0.02392826  0.01849509  0.15236546  0.04046114]\n",
      " [ 0.47808829 -1.89633763  0.45532727 -0.72665108  1.56336719]]\n"
     ]
    }
   ],
   "source": [
    "names = np.array(['Bob', 'Joe', 'Tom', 'Harry', 'Will', 'Joe', 'Joe'])\n",
    "data = np.random.randn(7, 5)\n",
    "print(names)\n",
    "print(data)"
   ]
  },
  {
   "cell_type": "code",
   "execution_count": 38,
   "metadata": {},
   "outputs": [
    {
     "data": {
      "text/plain": [
       "array([[ 0.34324168,  0.30876256, -1.21054028,  0.11526678, -0.36573758]])"
      ]
     },
     "execution_count": 38,
     "metadata": {},
     "output_type": "execute_result"
    }
   ],
   "source": [
    "data[names == 'Tom']"
   ]
  },
  {
   "cell_type": "code",
   "execution_count": 39,
   "metadata": {},
   "outputs": [
    {
     "data": {
      "text/plain": [
       "array([[-1.21054028,  0.11526678, -0.36573758]])"
      ]
     },
     "execution_count": 39,
     "metadata": {},
     "output_type": "execute_result"
    }
   ],
   "source": [
    "data[names == 'Tom', 2:]"
   ]
  },
  {
   "cell_type": "code",
   "execution_count": 40,
   "metadata": {},
   "outputs": [
    {
     "data": {
      "text/plain": [
       "array([0.11526678])"
      ]
     },
     "execution_count": 40,
     "metadata": {},
     "output_type": "execute_result"
    }
   ],
   "source": [
    "data[names == 'Tom', 3]"
   ]
  },
  {
   "cell_type": "code",
   "execution_count": 41,
   "metadata": {},
   "outputs": [
    {
     "data": {
      "text/plain": [
       "array([[-1.34277118,  0.71226694, -0.07665923,  0.13775519, -0.08587056],\n",
       "       [-0.55199022,  1.42888103, -0.46743319,  2.5550464 , -0.00763004],\n",
       "       [ 1.55927338,  1.09321367,  0.37970517,  0.39370512, -1.4963454 ],\n",
       "       [-0.35274332,  0.20317454,  0.89377621, -1.28325774, -0.0231772 ],\n",
       "       [-0.53795685,  0.02392826,  0.01849509,  0.15236546,  0.04046114],\n",
       "       [ 0.47808829, -1.89633763,  0.45532727, -0.72665108,  1.56336719]])"
      ]
     },
     "execution_count": 41,
     "metadata": {},
     "output_type": "execute_result"
    }
   ],
   "source": [
    "data[~(names == 'Tom')]"
   ]
  },
  {
   "cell_type": "code",
   "execution_count": 42,
   "metadata": {},
   "outputs": [
    {
     "data": {
      "text/plain": [
       "array([[-1.34277118,  0.71226694, -0.07665923,  0.13775519, -0.08587056],\n",
       "       [-0.55199022,  1.42888103, -0.46743319,  2.5550464 , -0.00763004],\n",
       "       [ 1.55927338,  1.09321367,  0.37970517,  0.39370512, -1.4963454 ],\n",
       "       [-0.35274332,  0.20317454,  0.89377621, -1.28325774, -0.0231772 ],\n",
       "       [-0.53795685,  0.02392826,  0.01849509,  0.15236546,  0.04046114],\n",
       "       [ 0.47808829, -1.89633763,  0.45532727, -0.72665108,  1.56336719]])"
      ]
     },
     "execution_count": 42,
     "metadata": {},
     "output_type": "execute_result"
    }
   ],
   "source": [
    "cond = names == 'Tom'\n",
    "data[~cond]"
   ]
  },
  {
   "cell_type": "markdown",
   "metadata": {},
   "source": [
    "__Transposing Arrays and Axes Swapping__"
   ]
  },
  {
   "cell_type": "code",
   "execution_count": 44,
   "metadata": {},
   "outputs": [
    {
     "name": "stdout",
     "output_type": "stream",
     "text": [
      "[[ 0  1  2  3  4]\n",
      " [ 5  6  7  8  9]\n",
      " [10 11 12 13 14]]\n",
      "[[ 0  5 10]\n",
      " [ 1  6 11]\n",
      " [ 2  7 12]\n",
      " [ 3  8 13]\n",
      " [ 4  9 14]]\n"
     ]
    }
   ],
   "source": [
    "arr10 = np.arange(15).reshape((3, 5))\n",
    "print(arr10)\n",
    "print(arr10.T)"
   ]
  },
  {
   "cell_type": "code",
   "execution_count": 45,
   "metadata": {},
   "outputs": [
    {
     "name": "stdout",
     "output_type": "stream",
     "text": [
      "[[125 140 155 170 185]\n",
      " [140 158 176 194 212]\n",
      " [155 176 197 218 239]\n",
      " [170 194 218 242 266]\n",
      " [185 212 239 266 293]]\n"
     ]
    }
   ],
   "source": [
    "print(np.dot(arr10.T,arr10))"
   ]
  },
  {
   "cell_type": "markdown",
   "metadata": {},
   "source": [
    "__Universal Functions__"
   ]
  },
  {
   "cell_type": "code",
   "execution_count": 47,
   "metadata": {},
   "outputs": [
    {
     "name": "stdout",
     "output_type": "stream",
     "text": [
      "[0.         1.         1.41421356 1.73205081 2.         2.23606798\n",
      " 2.44948974 2.64575131 2.82842712 3.        ]\n",
      "[1.00000000e+00 2.71828183e+00 7.38905610e+00 2.00855369e+01\n",
      " 5.45981500e+01 1.48413159e+02 4.03428793e+02 1.09663316e+03\n",
      " 2.98095799e+03 8.10308393e+03]\n"
     ]
    }
   ],
   "source": [
    "arr11 = np.arange(10)\n",
    "print(np.sqrt(arr11))\n",
    "print(np.exp(arr11))"
   ]
  },
  {
   "cell_type": "code",
   "execution_count": 48,
   "metadata": {},
   "outputs": [
    {
     "name": "stdout",
     "output_type": "stream",
     "text": [
      "[-0.41996984  1.18327317 -1.14049668  1.57949283  0.65388528  0.37196353\n",
      " -0.05840102  1.27188844  2.11986032 -0.29771916]\n"
     ]
    }
   ],
   "source": [
    "x = np.random.randn(10)\n",
    "y = np.random.randn(10)\n",
    "print(np.maximum(x, y))"
   ]
  },
  {
   "cell_type": "code",
   "execution_count": 51,
   "metadata": {},
   "outputs": [
    {
     "name": "stdout",
     "output_type": "stream",
     "text": [
      "[-0.41996984 -0.15208903 -0.28110515  0.57949283 -0.97379435 -0.71335455\n",
      " -0.05840102  0.27188844  0.11986032 -0.29771916]\n",
      "[-0. -0. -1.  1. -1. -0. -0.  1.  2. -0.]\n"
     ]
    }
   ],
   "source": [
    "remainder, whole_part = np.modf(x)\n",
    "print(remainder)\n",
    "print(whole_part)"
   ]
  },
  {
   "cell_type": "markdown",
   "metadata": {},
   "source": [
    "__Expressing Conditional Logic as Array Operations__"
   ]
  },
  {
   "cell_type": "code",
   "execution_count": 53,
   "metadata": {},
   "outputs": [],
   "source": [
    "arr1 = np.array([1.1, 1.2, 1.3, 1.4, 1.5])\n",
    "arr2 = np.array([2.1, 2.2, 2.3, 2.4, 2.5])\n",
    "cond = np.array([True, False, True, True, False])"
   ]
  },
  {
   "cell_type": "code",
   "execution_count": 55,
   "metadata": {},
   "outputs": [
    {
     "name": "stdout",
     "output_type": "stream",
     "text": [
      "[1.1, 2.2, 1.3, 1.4, 2.5]\n"
     ]
    }
   ],
   "source": [
    "res1 = [(x if c else y)\n",
    "      for x,y,c in zip(arr1,arr2,cond)]\n",
    "print(res1)"
   ]
  },
  {
   "cell_type": "code",
   "execution_count": 56,
   "metadata": {},
   "outputs": [
    {
     "name": "stdout",
     "output_type": "stream",
     "text": [
      "[1.1 2.2 1.3 1.4 2.5]\n"
     ]
    }
   ],
   "source": [
    "res2 = np.where(cond, arr1, arr2)\n",
    "print(res2)"
   ]
  },
  {
   "cell_type": "markdown",
   "metadata": {},
   "source": [
    "__Mathematical and Statistical Methods__"
   ]
  },
  {
   "cell_type": "code",
   "execution_count": 58,
   "metadata": {},
   "outputs": [
    {
     "name": "stdout",
     "output_type": "stream",
     "text": [
      "[[-0.92031054 -0.41564528  0.7988044   0.90821113]\n",
      " [-0.23982858  0.88076234 -0.74205112 -1.54780995]\n",
      " [ 0.62109697 -0.43631676 -0.01856624 -1.11857205]\n",
      " [-0.16093112  0.23869525  0.07893256 -1.0936782 ]\n",
      " [-0.04954483 -0.96756789  0.61948677 -1.0137456 ]]\n",
      "-0.22892893712429804\n",
      "[-0.14990362 -0.14001447  0.14732127 -0.77311894]\n",
      "[ 0.09276493 -0.41223183 -0.23808952 -0.23424538 -0.35284289]\n",
      "-4.578578742485961\n",
      "[-0.7495181  -0.70007233  0.73660637 -3.86559468]\n",
      "[ 0.37105971 -1.64892731 -0.95235808 -0.93698151 -1.41137155]\n",
      "[-0.92031054 -1.33595582 -0.53715141  0.37105971  0.13123113  1.01199347\n",
      "  0.26994235 -1.2778676  -0.65677064 -1.0930874  -1.11165364 -2.23022569\n",
      " -2.3911568  -2.15246155 -2.07352899 -3.16720719 -3.21675203 -4.18431991\n",
      " -3.56483314 -4.57857874]\n"
     ]
    }
   ],
   "source": [
    "arr1 = np.random.randn(5, 4)\n",
    "print(arr1)\n",
    "print(arr1.mean())\n",
    "print(arr1.mean(axis=0))\n",
    "print(arr1.mean(axis=1))\n",
    "print(arr1.sum())\n",
    "print(arr1.sum(axis=0))\n",
    "print(arr1.sum(axis=1))\n",
    "print(arr1.cumsum())"
   ]
  },
  {
   "cell_type": "markdown",
   "metadata": {},
   "source": [
    "__Sorting__"
   ]
  },
  {
   "cell_type": "code",
   "execution_count": 67,
   "metadata": {},
   "outputs": [
    {
     "name": "stdout",
     "output_type": "stream",
     "text": [
      "[-1.36506656  1.65711565 -0.41899976 -0.20808499 -2.14385858]\n"
     ]
    }
   ],
   "source": [
    "arr1 = np.random.randn(5)\n",
    "print(arr1)\n",
    "arr1.sort()"
   ]
  },
  {
   "cell_type": "markdown",
   "metadata": {},
   "source": [
    "__Unique and Other Set Logic__"
   ]
  },
  {
   "cell_type": "code",
   "execution_count": 68,
   "metadata": {},
   "outputs": [
    {
     "data": {
      "text/plain": [
       "array(['Bob', 'Harry', 'Joe', 'Tom', 'Will'], dtype='<U5')"
      ]
     },
     "execution_count": 68,
     "metadata": {},
     "output_type": "execute_result"
    }
   ],
   "source": [
    "names = np.array(['Bob', 'Joe', 'Will', 'Tom', 'Harry', 'Joe', 'Joe'])\n",
    "np.unique(names)"
   ]
  },
  {
   "cell_type": "code",
   "execution_count": 69,
   "metadata": {},
   "outputs": [
    {
     "data": {
      "text/plain": [
       "array([1, 2, 3, 4])"
      ]
     },
     "execution_count": 69,
     "metadata": {},
     "output_type": "execute_result"
    }
   ],
   "source": [
    "ints = np.array([3, 3, 3, 2, 2, 1, 1, 4, 4])\n",
    "np.unique(ints)"
   ]
  },
  {
   "cell_type": "code",
   "execution_count": 70,
   "metadata": {},
   "outputs": [
    {
     "data": {
      "text/plain": [
       "['Bob', 'Harry', 'Joe', 'Tom', 'Will']"
      ]
     },
     "execution_count": 70,
     "metadata": {},
     "output_type": "execute_result"
    }
   ],
   "source": [
    "sorted(set(names))"
   ]
  },
  {
   "cell_type": "markdown",
   "metadata": {},
   "source": [
    "__saving numpy array__"
   ]
  },
  {
   "cell_type": "code",
   "execution_count": 71,
   "metadata": {},
   "outputs": [
    {
     "data": {
      "text/plain": [
       "array([0, 1, 2, 3, 4, 5, 6, 7, 8, 9])"
      ]
     },
     "execution_count": 71,
     "metadata": {},
     "output_type": "execute_result"
    }
   ],
   "source": [
    "arr = np.arange(10)\n",
    "np.save('test_arr', arr)\n",
    "np.load('test_arr.npy')"
   ]
  },
  {
   "cell_type": "code",
   "execution_count": 76,
   "metadata": {},
   "outputs": [
    {
     "name": "stdout",
     "output_type": "stream",
     "text": [
      "<numpy.lib.npyio.NpzFile object at 0x7fecd8e22730>\n",
      "[0 1 2 3 4 5 6 7 8 9]\n"
     ]
    }
   ],
   "source": [
    "np.savez('array_archive.npz', a=arr, b=arr)\n",
    "arch = np.load('array_archive.npz')\n",
    "print(arch)\n",
    "print(arch['b'])"
   ]
  },
  {
   "cell_type": "markdown",
   "metadata": {},
   "source": [
    "__Some applications in Linear Algebra__"
   ]
  },
  {
   "cell_type": "code",
   "execution_count": 77,
   "metadata": {},
   "outputs": [
    {
     "name": "stdout",
     "output_type": "stream",
     "text": [
      "[[ 28.  64.]\n",
      " [ 67. 181.]]\n",
      "[[ 28.  64.]\n",
      " [ 67. 181.]]\n",
      "[ 6. 15.]\n"
     ]
    }
   ],
   "source": [
    "x = np.array([[1., 2., 3.], [4., 5., 6.]])\n",
    "y = np.array([[6., 23.], [-1, 7], [8, 9]])\n",
    "print(x.dot(y))\n",
    "print(np.dot(x, y))\n",
    "print(x @ np.ones(3))"
   ]
  },
  {
   "cell_type": "code",
   "execution_count": 78,
   "metadata": {},
   "outputs": [
    {
     "name": "stdout",
     "output_type": "stream",
     "text": [
      "[[ 0.55538745  0.03817756 -0.87448497  0.25839343 -0.77341861 -0.10970168\n",
      "  -0.43674174 -0.11730271  0.05138908  0.06774394]\n",
      " [ 0.03817756  0.19269523 -0.18847336  0.28490687 -0.16775949 -0.08099921\n",
      "   0.03671057 -0.19828447 -0.05385812 -0.19154305]\n",
      " [-0.87448497 -0.18847336  2.55393464 -1.22749284  1.05787572  0.63631751\n",
      "   0.93269946  0.58341695 -0.20345456 -0.75047498]\n",
      " [ 0.25839343  0.28490687 -1.22749284  1.52573277 -0.36671975 -0.54969176\n",
      "  -0.28644373 -0.57925646 -0.04578353  0.1529119 ]\n",
      " [-0.77341861 -0.16775949  1.05787572 -0.36671975  1.72400383  0.13569908\n",
      "   0.49315729  0.2834375   0.09205289  0.59460994]\n",
      " [-0.10970168 -0.08099921  0.63631751 -0.54969176  0.13569908  0.327853\n",
      "   0.17893955  0.25304515  0.0241674  -0.22026004]\n",
      " [-0.43674174  0.03671057  0.93269946 -0.28644373  0.49315729  0.17893955\n",
      "   0.55126194  0.04920265 -0.08825541 -0.35537768]\n",
      " [-0.11730271 -0.19828447  0.58341695 -0.57925646  0.2834375   0.25304515\n",
      "   0.04920265  0.43494914  0.05976731  0.0817754 ]\n",
      " [ 0.05138908 -0.05385812 -0.20345456 -0.04578353  0.09205289  0.0241674\n",
      "  -0.08825541  0.05976731  0.18033282  0.28613817]\n",
      " [ 0.06774394 -0.19154305 -0.75047498  0.1529119   0.59460994 -0.22026004\n",
      "  -0.35537768  0.0817754   0.28613817  1.24571526]]\n"
     ]
    }
   ],
   "source": [
    "from numpy.linalg import inv, qr\n",
    "X = np.random.randn(10, 10)\n",
    "mat = X.T.dot(X)\n",
    "print(inv(mat))"
   ]
  },
  {
   "cell_type": "code",
   "execution_count": 79,
   "metadata": {},
   "outputs": [
    {
     "data": {
      "text/plain": [
       "array([[ 1.00000000e+00, -3.26171542e-17, -7.44501812e-18,\n",
       "         6.66438197e-16,  3.78708355e-16, -6.84581027e-17,\n",
       "         5.22562801e-16, -4.83047887e-17, -1.63952742e-17,\n",
       "         1.93553521e-16],\n",
       "       [ 1.51781038e-16,  1.00000000e+00,  7.53259468e-16,\n",
       "         3.76860173e-17, -3.41138064e-16, -2.28083212e-19,\n",
       "        -5.29711274e-16, -1.75039608e-16, -3.18919055e-16,\n",
       "        -6.04257326e-16],\n",
       "       [ 3.76575374e-16,  2.36459170e-16,  1.00000000e+00,\n",
       "        -3.85965217e-16, -8.97623145e-16, -4.49141360e-16,\n",
       "         4.49198442e-16, -5.97283777e-16,  1.08949466e-16,\n",
       "         2.07125044e-16],\n",
       "       [-2.15391783e-16,  1.74318826e-16,  4.40356842e-18,\n",
       "         1.00000000e+00, -2.92746010e-16,  4.59889113e-16,\n",
       "         3.13294093e-16,  3.94851200e-16, -3.24183528e-17,\n",
       "        -3.37542853e-16],\n",
       "       [ 3.07869434e-16,  6.06007112e-17, -3.09222956e-15,\n",
       "         8.21808707e-16,  1.00000000e+00, -5.48763946e-16,\n",
       "        -1.16251722e-15,  1.63685082e-16,  2.49133903e-16,\n",
       "         2.07511666e-16],\n",
       "       [-1.68306835e-15,  2.44733560e-16,  5.25984277e-16,\n",
       "        -5.69293832e-16,  1.12094739e-15,  1.00000000e+00,\n",
       "         4.93376344e-17,  1.64529068e-16, -3.27782426e-16,\n",
       "        -3.93967076e-16],\n",
       "       [ 1.34613051e-15,  1.09207551e-16, -1.28108531e-15,\n",
       "         9.58857584e-16,  2.65519315e-16,  1.54513446e-16,\n",
       "         1.00000000e+00, -1.29534586e-16,  5.16474587e-17,\n",
       "        -4.41016027e-16],\n",
       "       [ 1.19800419e-16,  8.97444459e-17, -2.71605198e-15,\n",
       "        -2.65148287e-16,  1.98353148e-16,  1.15994937e-15,\n",
       "        -4.24116448e-16,  1.00000000e+00, -1.43849294e-16,\n",
       "        -8.12433869e-16],\n",
       "       [ 8.29672776e-16,  1.00575189e-16, -4.00743893e-16,\n",
       "         6.28901813e-16, -2.14117767e-16, -1.01487615e-15,\n",
       "         6.49920453e-16, -4.72597596e-16,  1.00000000e+00,\n",
       "         8.76555071e-16],\n",
       "       [ 2.30540422e-17, -1.12223258e-17, -9.28423393e-16,\n",
       "        -3.80684066e-16, -1.14883940e-15,  1.74024303e-17,\n",
       "         3.63562435e-16, -5.63365097e-16,  1.69024588e-19,\n",
       "         1.00000000e+00]])"
      ]
     },
     "execution_count": 79,
     "metadata": {},
     "output_type": "execute_result"
    }
   ],
   "source": [
    "mat.dot(inv(mat))"
   ]
  },
  {
   "cell_type": "code",
   "execution_count": 81,
   "metadata": {},
   "outputs": [
    {
     "name": "stdout",
     "output_type": "stream",
     "text": [
      "[[-0.80364935 -0.04303227 -0.03922729 -0.34028868 -0.02606599 -0.26469572\n",
      "   0.29810047  0.18241049 -0.20109459  0.04050928]\n",
      " [ 0.04279313 -0.90583217  0.21203358 -0.00461344 -0.08112078 -0.15474673\n",
      "  -0.2116496   0.20385442  0.05156537 -0.11453822]\n",
      " [-0.09599821 -0.20630795 -0.54897377 -0.25656764  0.02925861  0.092515\n",
      "  -0.04216196 -0.58572366  0.15926734 -0.44876631]\n",
      " [ 0.05048369  0.07289639 -0.09649124 -0.57228429 -0.24206623  0.42181333\n",
      "  -0.12833254  0.42617997  0.46079891  0.0914377 ]\n",
      " [-0.30406489  0.0754605   0.20886742  0.10502065 -0.50807018 -0.13582829\n",
      "  -0.43014534 -0.43480789  0.26476961  0.35556269]\n",
      " [ 0.39846292  0.15389397  0.14708307 -0.56365766 -0.28156786 -0.41481434\n",
      "  -0.13244041 -0.09585308 -0.42751992 -0.1317103 ]\n",
      " [-0.21572318  0.16665768  0.36193936 -0.19194307  0.62206502  0.04610269\n",
      "  -0.56736946 -0.02841008  0.0296897  -0.21250746]\n",
      " [-0.02621161 -0.15986261  0.52011723 -0.19133939 -0.04652252  0.58993434\n",
      "   0.34499576 -0.37703266 -0.22993573  0.04889976]\n",
      " [-0.11663006 -0.07322728 -0.36631109  0.09823397 -0.12290992  0.40181871\n",
      "  -0.45033043  0.12935499 -0.64173951  0.17110387]\n",
      " [ 0.16881331 -0.2041292  -0.20458576 -0.28107642  0.4377625  -0.13182411\n",
      "   0.04243269 -0.20622567  0.02724906  0.7449083 ]]\n",
      "[[-18.6848119    1.87555956  -1.45754677   2.73936041  -8.47751265\n",
      "   17.58003467  -5.48595692  -3.12298711  -7.77659851   7.80682757]\n",
      " [  0.         -16.44604443  -5.83191711   1.38190624   2.56422817\n",
      "    5.76116928   4.71863151  -2.44000454  -3.86695964  -4.1864456 ]\n",
      " [  0.           0.          -9.46767863   0.05886627   2.43536104\n",
      "    3.61887433   9.38373715  11.00871858 -10.12015756  -2.11890128]\n",
      " [  0.           0.           0.          -3.87900834   3.07154359\n",
      "  -11.97620966  -4.01507138  -0.04848546   7.47297969  -6.19193446]\n",
      " [  0.           0.           0.           0.          -4.58591691\n",
      "   -1.63586248   8.4208046    2.31759835  -3.00638068   5.19184689]\n",
      " [  0.           0.           0.           0.           0.\n",
      "  -11.163175     1.86355846   7.2115218    8.58109638  -3.99245546]\n",
      " [  0.           0.           0.           0.           0.\n",
      "    0.          -1.54443677   1.50006269  -4.64008517   0.56081162]\n",
      " [  0.           0.           0.           0.           0.\n",
      "    0.           0.          -1.0283581    1.90973984  -0.53670431]\n",
      " [  0.           0.           0.           0.           0.\n",
      "    0.           0.           0.          -5.65406828   1.32060181]\n",
      " [  0.           0.           0.           0.           0.\n",
      "    0.           0.           0.           0.           0.59797638]]\n"
     ]
    }
   ],
   "source": [
    "q, r = qr(mat)\n",
    "print(q)\n",
    "print(r)"
   ]
  },
  {
   "cell_type": "markdown",
   "metadata": {},
   "source": [
    "__Generating a random walk series__"
   ]
  },
  {
   "cell_type": "code",
   "execution_count": 82,
   "metadata": {},
   "outputs": [],
   "source": [
    "import random\n",
    "position = 0\n",
    "walk = [position]\n",
    "steps = 10000\n",
    "for i in range(steps):\n",
    "    step = 1 if random.randint(0, 1) else -1\n",
    "    position += step\n",
    "    walk.append(position)"
   ]
  },
  {
   "cell_type": "code",
   "execution_count": 86,
   "metadata": {},
   "outputs": [
    {
     "data": {
      "text/plain": [
       "[<matplotlib.lines.Line2D at 0x7feca3bd1490>]"
      ]
     },
     "execution_count": 86,
     "metadata": {},
     "output_type": "execute_result"
    },
    {
     "data": {
      "image/png": "[encoded data removed]",
      "text/plain": [
       "<Figure size 432x288 with 1 Axes>"
      ]
     },
     "metadata": {
      "needs_background": "light"
     },
     "output_type": "display_data"
    }
   ],
   "source": [
    "import matplotlib.pyplot as plt\n",
    "%matplotlib inline\n",
    "plt.plot(walk[:1000])"
   ]
  },
  {
   "cell_type": "markdown",
   "metadata": {},
   "source": [
    "__Advanced Array Manipulation__"
   ]
  },
  {
   "cell_type": "code",
   "execution_count": 89,
   "metadata": {},
   "outputs": [
    {
     "name": "stdout",
     "output_type": "stream",
     "text": [
      "[0 1 2 3 4 5 6 7 8 9]\n",
      "[[0 1]\n",
      " [2 3]\n",
      " [4 5]\n",
      " [6 7]\n",
      " [8 9]]\n",
      "[[0 1 2 3 4]\n",
      " [5 6 7 8 9]]\n"
     ]
    }
   ],
   "source": [
    "# Reshaping Arrays\n",
    "arr = np.arange(10)\n",
    "print(arr)\n",
    "print(arr.reshape((5, 2)))\n",
    "print(arr.reshape((5, 2)).reshape((2, 5)))"
   ]
  },
  {
   "cell_type": "code",
   "execution_count": 91,
   "metadata": {},
   "outputs": [
    {
     "name": "stdout",
     "output_type": "stream",
     "text": [
      "[0 1 2 3 4 5 6 7 8 9]\n",
      "[0 1 2 3 4 5 6 7 8 9]\n"
     ]
    }
   ],
   "source": [
    "# Opposite operations of reshape\n",
    "print(arr.ravel())\n",
    "print(arr.flatten())"
   ]
  },
  {
   "cell_type": "code",
   "execution_count": 92,
   "metadata": {},
   "outputs": [
    {
     "name": "stdout",
     "output_type": "stream",
     "text": [
      "[[ 1  2  3]\n",
      " [ 4  5  6]\n",
      " [ 7  8  9]\n",
      " [10 11 12]]\n",
      "[[ 1  2  3  7  8  9]\n",
      " [ 4  5  6 10 11 12]]\n",
      "[[ 1  2  3]\n",
      " [ 4  5  6]\n",
      " [ 7  8  9]\n",
      " [10 11 12]]\n",
      "[[ 1  2  3  7  8  9]\n",
      " [ 4  5  6 10 11 12]]\n"
     ]
    }
   ],
   "source": [
    "# Concatenating and Splitting Arrays\n",
    "arr1 = np.array([[1, 2, 3], [4, 5, 6]])\n",
    "arr2 = np.array([[7, 8, 9], [10, 11, 12]])\n",
    "print(np.concatenate([arr1, arr2], axis=0))\n",
    "print(np.concatenate([arr1, arr2], axis=1))\n",
    "print(np.vstack((arr1, arr2)))\n",
    "print(np.hstack((arr1, arr2)))"
   ]
  },
  {
   "cell_type": "code",
   "execution_count": 93,
   "metadata": {},
   "outputs": [
    {
     "name": "stdout",
     "output_type": "stream",
     "text": [
      "[0]\n",
      "[1 2]\n",
      "[3 4 5 6 7 8 9]\n"
     ]
    }
   ],
   "source": [
    "first, second, third = np.split(arr, [1, 3])\n",
    "print(first)\n",
    "print(second)\n",
    "print(third)"
   ]
  },
  {
   "cell_type": "code",
   "execution_count": 94,
   "metadata": {},
   "outputs": [
    {
     "name": "stdout",
     "output_type": "stream",
     "text": [
      "[0 1 2 3 4 5 6 7 8 9]\n",
      "[[0 1]\n",
      " [2 3]\n",
      " [4 5]\n",
      " [6 7]\n",
      " [8 9]]\n",
      "[[-0.03566226  0.28223477]\n",
      " [-1.51550182 -0.90335154]\n",
      " [ 0.83828889 -1.33247931]\n",
      " [-1.6222218  -0.93646203]\n",
      " [-0.36185684 -0.12131755]]\n",
      "[[ 0.          1.        ]\n",
      " [ 2.          3.        ]\n",
      " [ 4.          5.        ]\n",
      " [ 6.          7.        ]\n",
      " [ 8.          9.        ]\n",
      " [-0.03566226  0.28223477]\n",
      " [-1.51550182 -0.90335154]\n",
      " [ 0.83828889 -1.33247931]\n",
      " [-1.6222218  -0.93646203]\n",
      " [-0.36185684 -0.12131755]]\n"
     ]
    }
   ],
   "source": [
    "# Stacking helpers: r_ and c_\n",
    "arr = np.arange(10)\n",
    "arr1 = arr.reshape((5, 2))\n",
    "arr2 = np.random.randn(5, 2)\n",
    "print(arr)\n",
    "print(arr1)\n",
    "print(arr2)\n",
    "print(np.r_[arr1, arr2])"
   ]
  },
  {
   "cell_type": "markdown",
   "metadata": {},
   "source": [
    "__Some examples of Scipy - applications__"
   ]
  },
  {
   "cell_type": "markdown",
   "metadata": {},
   "source": [
    "- <b>scipy.integrate:</b> Numerical integration routines and differential equation solvers\n",
    "    \n",
    "- <b>scipy.linalg:</b> Linear algebra routines and matrix decompositions extending beyond those pro‐ vided in numpy.linalg\n",
    "    \n",
    "- <b>scipy.optimize:</b> Function optimizers (minimizers) and root finding algorithms\n",
    "    \n",
    "- <b>scipy.signal:</b> Signal processing tools\n",
    "    \n",
    "- <b>scipy.sparse:</b> Sparse matrices and sparse linear system solvers\n",
    "    \n",
    "- <b>scipy.special:</b> Wrapper around SPECFUN, a Fortran library implementing many common mathematical functions, such as the gamma function\n",
    "    \n",
    "- <b>scipy.stats:</b> Standard continuous and discrete probability distributions (density functions, samplers, continuous distribution functions), various statistical tests, and more descriptive statistics\n"
   ]
  },
  {
   "cell_type": "code",
   "execution_count": 95,
   "metadata": {},
   "outputs": [
    {
     "name": "stdout",
     "output_type": "stream",
     "text": [
      "[0.84134475 0.15865525 0.5        0.84134475 0.9986501  0.99996833\n",
      " 0.02275013 1.        ]\n"
     ]
    }
   ],
   "source": [
    "# To compute the CDF at a number of points, we can pass a list or a NumPy array.\n",
    "from scipy.stats import norm\n",
    "import numpy as np\n",
    "print(norm.cdf(np.array([1,-1., 0, 1, 3, 4, -2, 6])))"
   ]
  },
  {
   "cell_type": "code",
   "execution_count": 96,
   "metadata": {},
   "outputs": [
    {
     "name": "stdout",
     "output_type": "stream",
     "text": [
      "0.0\n"
     ]
    }
   ],
   "source": [
    "# To find the median of a distribution, we can use the Percent Point Function (PPF), \n",
    "# which is the inverse of the CDF. \n",
    "# Let us understand by using the following example.\n",
    "\n",
    "from scipy.stats import norm\n",
    "print(norm.ppf(0.5))"
   ]
  },
  {
   "cell_type": "markdown",
   "metadata": {},
   "source": [
    "__Comparing two samples - T-test__"
   ]
  },
  {
   "cell_type": "code",
   "execution_count": 97,
   "metadata": {},
   "outputs": [
    {
     "name": "stdout",
     "output_type": "stream",
     "text": [
      "Ttest_indResult(statistic=-1.8566438536284124, pvalue=0.063656352120537)\n"
     ]
    }
   ],
   "source": [
    "from scipy import stats\n",
    "rvs1 = stats.norm.rvs(loc = 5,scale = 10,size = 500)\n",
    "rvs2 = stats.norm.rvs(loc = 5,scale = 10,size = 500)\n",
    "print(stats.ttest_ind(rvs1,rvs2))"
   ]
  },
  {
   "cell_type": "code",
   "execution_count": null,
   "metadata": {},
   "outputs": [],
   "source": []
  }
 ],
 "metadata": {
  "kernelspec": {
   "display_name": "Python 3",
   "language": "python",
   "name": "python3"
  },
  "language_info": {
   "codemirror_mode": {
    "name": "ipython",
    "version": 3
   },
   "file_extension": ".py",
   "mimetype": "text/x-python",
   "name": "python",
   "nbconvert_exporter": "python",
   "pygments_lexer": "ipython3",
   "version": "3.8.3"
  }
 },
 "nbformat": 4,
 "nbformat_minor": 4
}
